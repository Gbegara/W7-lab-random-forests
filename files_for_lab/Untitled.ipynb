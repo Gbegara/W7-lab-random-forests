{
 "cells": [
  {
   "cell_type": "code",
   "execution_count": 27,
   "id": "d43115e9",
   "metadata": {},
   "outputs": [],
   "source": [
    "import pandas as pd\n",
    "import numpy as np"
   ]
  },
  {
   "cell_type": "code",
   "execution_count": 28,
   "id": "67497ca5",
   "metadata": {},
   "outputs": [],
   "source": [
    "import pandas as pd\n",
    "import numpy as np\n",
    "pd.set_option('display.max_columns', None)\n",
    "import warnings\n",
    "warnings.filterwarnings('ignore')\n",
    "from sklearn.model_selection import cross_val_score\n",
    "from sklearn.model_selection import train_test_split\n",
    "\n",
    "\n",
    "numerical = pd.read_csv('numerical.csv')\n",
    "categorical = pd.read_csv('categorical.csv')\n",
    "targets = pd.read_csv('target.csv')\n",
    "df = pd.concat([numerical, categorical, targets], axis = 1)"
   ]
  },
  {
   "cell_type": "code",
   "execution_count": 29,
   "id": "0e5decf8",
   "metadata": {},
   "outputs": [
    {
     "data": {
      "text/plain": [
       "0    90569\n",
       "1     4843\n",
       "Name: TARGET_B, dtype: int64"
      ]
     },
     "execution_count": 29,
     "metadata": {},
     "output_type": "execute_result"
    }
   ],
   "source": [
    "df['TARGET_B'].value_counts()"
   ]
  },
  {
   "cell_type": "code",
   "execution_count": 30,
   "id": "9805938b",
   "metadata": {},
   "outputs": [],
   "source": [
    "y = df['TARGET_B']\n",
    "X = df.drop(['TARGET_B'], axis = 1)\n",
    "\n",
    "numericalX = X.select_dtypes(np.number)\n",
    "categoricalX = X.select_dtypes(np.object)\n",
    "\n",
    "# we OneHotEncode the categoricals so we can use the same dataset to perform a regression later (in the lab).\n",
    "# it is not needed for a DecisionTree or RandomForest model\n",
    "from sklearn.preprocessing import OneHotEncoder\n",
    "encoder = OneHotEncoder(drop='first').fit(categoricalX)\n",
    "encoded_categorical = encoder.transform(categoricalX).toarray()\n",
    "encoded_categorical = pd.DataFrame(encoded_categorical)\n",
    "X = pd.concat([numericalX, encoded_categorical], axis = 1)\n",
    "\n",
    "# Note: we need to do train/test split before downsampling, and then only downsample the training set - Why?\n",
    "from sklearn.model_selection import train_test_split\n",
    "X_train, X_test, y_train, y_test = train_test_split(X, y, test_size=0.2, random_state=0)"
   ]
  },
  {
   "cell_type": "code",
   "execution_count": 31,
   "id": "6e460dbd",
   "metadata": {},
   "outputs": [],
   "source": [
    "# for oversampling we need to temporarily concat X_train and y_train\n",
    "trainset = pd.concat([X_train, y_train], axis=1)"
   ]
  },
  {
   "cell_type": "code",
   "execution_count": 32,
   "id": "0531548c",
   "metadata": {},
   "outputs": [],
   "source": [
    "#oversampling\n",
    "from sklearn.utils import resample\n",
    "\n",
    "category_0 = trainset[trainset['TARGET_B'] == 0]\n",
    "category_1 = trainset[trainset['TARGET_B'] == 1]"
   ]
  },
  {
   "cell_type": "code",
   "execution_count": 33,
   "id": "7c1292ad",
   "metadata": {},
   "outputs": [],
   "source": [
    "category_1_oversampled = resample(category_1, \n",
    "                                  replace=True, \n",
    "                                  n_samples = len(category_0))"
   ]
  },
  {
   "cell_type": "code",
   "execution_count": 34,
   "id": "17a29e4f",
   "metadata": {},
   "outputs": [
    {
     "name": "stdout",
     "output_type": "stream",
     "text": [
      "(72486, 356)\n",
      "(72486, 356)\n"
     ]
    }
   ],
   "source": [
    "print(category_0.shape)\n",
    "print(category_1_oversampled.shape)"
   ]
  },
  {
   "cell_type": "code",
   "execution_count": 35,
   "id": "5891409c",
   "metadata": {},
   "outputs": [
    {
     "name": "stdout",
     "output_type": "stream",
     "text": [
      "(144972, 355)\n"
     ]
    }
   ],
   "source": [
    "trainset_new = pd.concat([category_0, category_1_oversampled], axis = 0)\n",
    "trainset_new = trainset_new.sample(frac =1) #randomize the rows\n",
    "X_train = trainset_new.drop(['TARGET_B'], axis=1)\n",
    "y_train = trainset_new['TARGET_B']\n",
    "#data = data.reset_index(drop=True)\n",
    "print(X_train.shape)"
   ]
  },
  {
   "cell_type": "code",
   "execution_count": 36,
   "id": "349db630",
   "metadata": {},
   "outputs": [],
   "source": [
    "X_train = pd.DataFrame(X_train)\n",
    "X_test = pd.DataFrame(X_test)\n",
    "\n",
    "y_train_regression = X_train['TARGET_D']\n",
    "y_test_regression = X_test['TARGET_D']\n",
    "\n",
    "# Now we can remove the column target d from the set of features\n",
    "X_train = X_train.drop(['TARGET_D'], axis = 1)\n",
    "X_test = X_test.drop(['TARGET_D'], axis = 1)"
   ]
  },
  {
   "cell_type": "code",
   "execution_count": 37,
   "id": "98905cc6",
   "metadata": {},
   "outputs": [],
   "source": [
    "from sklearn.preprocessing import MinMaxScaler\n",
    "MinMaxtransformer = MinMaxScaler().fit(X_train)\n",
    "X_train_scaled = MinMaxtransformer.transform(X_train)\n",
    "X_train_scaled = pd.DataFrame(X_train_scaled,columns=X_train.columns)"
   ]
  },
  {
   "cell_type": "code",
   "execution_count": 38,
   "id": "cea85d34",
   "metadata": {},
   "outputs": [],
   "source": [
    "from sklearn.ensemble import RandomForestClassifier\n",
    "from sklearn.metrics import confusion_matrix\n",
    "\n",
    "clf = RandomForestClassifier(max_depth=5,\n",
    "                             min_samples_split=20,\n",
    "                             min_samples_leaf =20,\n",
    "                             max_samples=0.2,\n",
    "                             random_state = 42)\n"
   ]
  },
  {
   "cell_type": "code",
   "execution_count": 39,
   "id": "3c8ce674",
   "metadata": {},
   "outputs": [],
   "source": [
    "X_test_scaled = MinMaxtransformer.transform(X_test)\n",
    "X_test_scaled = pd.DataFrame(X_test_scaled)\n",
    "X_test_scaled.columns = X_test.columns"
   ]
  },
  {
   "cell_type": "code",
   "execution_count": 40,
   "id": "37e3aa27",
   "metadata": {},
   "outputs": [
    {
     "name": "stdout",
     "output_type": "stream",
     "text": [
      "0.6209474933090527\n",
      "0.6003772991667977\n"
     ]
    },
    {
     "data": {
      "text/plain": [
       "0    18083\n",
       "1     1000\n",
       "Name: TARGET_B, dtype: int64"
      ]
     },
     "metadata": {},
     "output_type": "display_data"
    },
    {
     "data": {
      "text/plain": [
       "array([[10916,  7167],\n",
       "       [  459,   541]], dtype=int64)"
      ]
     },
     "metadata": {},
     "output_type": "display_data"
    }
   ],
   "source": [
    "clf.fit(X_train_scaled, y_train)\n",
    "print(clf.score(X_train_scaled, y_train))\n",
    "print(clf.score(X_test_scaled, y_test))\n",
    "\n",
    "y_pred = clf.predict(X_test_scaled)\n",
    "display(y_test.value_counts())\n",
    "display(confusion_matrix(y_test, y_pred))"
   ]
  },
  {
   "cell_type": "code",
   "execution_count": 41,
   "id": "29964024",
   "metadata": {},
   "outputs": [
    {
     "name": "stdout",
     "output_type": "stream",
     "text": [
      "0.6195127412921153\n"
     ]
    }
   ],
   "source": [
    "from sklearn.model_selection import cross_val_score\n",
    "clf = RandomForestClassifier(max_depth=5,\n",
    "                             min_samples_split=20,\n",
    "                             min_samples_leaf =20)\n",
    "cross_val_scores = cross_val_score(clf, X_train_scaled, y_train, cv=10)\n",
    "print(np.mean(cross_val_scores))"
   ]
  },
  {
   "cell_type": "code",
   "execution_count": 42,
   "id": "0c3c915c",
   "metadata": {},
   "outputs": [
    {
     "data": {
      "text/plain": [
       "array([0.61801628, 0.6198786 , 0.61323032, 0.6215079 , 0.6146789 ,\n",
       "       0.62585362, 0.61861075, 0.62143892, 0.61454094, 0.62737118])"
      ]
     },
     "execution_count": 42,
     "metadata": {},
     "output_type": "execute_result"
    }
   ],
   "source": [
    "cross_val_scores"
   ]
  },
  {
   "cell_type": "markdown",
   "id": "feb4fc94",
   "metadata": {},
   "source": [
    "Discuss the output and its impact in the bussiness scenario.\n",
    "\n",
    "1) Is the cost of a false positive equals to the cost of the false negative? \n",
    "\n",
    "2) How would you change your algorithm or data in order to maximize the return of the bussiness?"
   ]
  },
  {
   "cell_type": "code",
   "execution_count": 45,
   "id": "721b7e94",
   "metadata": {},
   "outputs": [
    {
     "name": "stdout",
     "output_type": "stream",
     "text": [
      "amount lost on email:  4874 $\n",
      "amount lost on donation:  7172 $\n"
     ]
    }
   ],
   "source": [
    "#1\n",
    "email = 0.68\n",
    "mean_donation = df['TARGET_D'][df['TARGET_D']!=0].mean()\n",
    "false_positive = round(7167* email)\n",
    "false_negative = round(459* mean_donation)\n",
    "print('amount lost on email: ', false_positive, '$')\n",
    "print('amount lost on donation: ', false_negative, '$')"
   ]
  },
  {
   "cell_type": "markdown",
   "id": "4b5c7375",
   "metadata": {},
   "source": [
    "# Answer"
   ]
  },
  {
   "cell_type": "markdown",
   "id": "647f5b48",
   "metadata": {},
   "source": [
    "1) Basicaly, the cost of a false negative is much higher than the cost of a false positive.The problem is that with false negative you are loosing the change of that person donating and the donation is much larger than the cost of an email"
   ]
  },
  {
   "cell_type": "markdown",
   "id": "b21a983a",
   "metadata": {},
   "source": [
    "2) In order to improve the model I will reduce the noise of that many features affecting the model, in my opinion +300 rows is to much, therefore I would use Kbest or some other way to reduce rows number"
   ]
  },
  {
   "cell_type": "code",
   "execution_count": null,
   "id": "c1018591",
   "metadata": {},
   "outputs": [],
   "source": []
  }
 ],
 "metadata": {
  "kernelspec": {
   "display_name": "Python 3 (ipykernel)",
   "language": "python",
   "name": "python3"
  },
  "language_info": {
   "codemirror_mode": {
    "name": "ipython",
    "version": 3
   },
   "file_extension": ".py",
   "mimetype": "text/x-python",
   "name": "python",
   "nbconvert_exporter": "python",
   "pygments_lexer": "ipython3",
   "version": "3.9.7"
  }
 },
 "nbformat": 4,
 "nbformat_minor": 5
}
